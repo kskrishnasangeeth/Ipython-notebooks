{
 "cells": [
  {
   "cell_type": "markdown",
   "metadata": {},
   "source": [
    "# 1. Rank of Matrix"
   ]
  },
  {
   "cell_type": "code",
   "execution_count": 2,
   "metadata": {
    "collapsed": true
   },
   "outputs": [],
   "source": [
    "#Calculating the Rank of matrix\n",
    "\n",
    "import numpy as np\n",
    "\n",
    "# Creating a random matrix of 20x5\n",
    "\n",
    "mat1 = np.random.random((20,5))"
   ]
  },
  {
   "cell_type": "code",
   "execution_count": 4,
   "metadata": {
    "collapsed": false
   },
   "outputs": [
    {
     "data": {
      "text/plain": [
       "5"
      ]
     },
     "execution_count": 4,
     "metadata": {},
     "output_type": "execute_result"
    }
   ],
   "source": [
    "np.linalg.matrix_rank(mat1)"
   ]
  },
  {
   "cell_type": "markdown",
   "metadata": {},
   "source": [
    "# 2. Scaling / Standardization"
   ]
  },
  {
   "cell_type": "code",
   "execution_count": 5,
   "metadata": {
    "collapsed": true
   },
   "outputs": [],
   "source": [
    "\"\"\"\n",
    "\n",
    "X panelist:\n",
    "Raw :     [0, 1, 0, 0, 1, 0, 3.46, -4.32, 2.65, -1.51]\n",
    "Mean:    0.228\n",
    "Standard Deviation:  2.145\n",
    "Standardized:  [-0.106, 0.359, -0.106, -0.106, 0.359, -0.106,\n",
    "   1.506, -2.120, 1.129, -0.810]\n",
    "\n",
    "\n",
    "\"\"\"\n",
    "\n",
    "# X Panelist\n",
    "\n",
    "from sklearn import preprocessing\n",
    "import numpy as np\n",
    "XPanel = np.array([0, 1, 0, 0, 1, 0, 3.46, -4.32, 2.65, -1.51])\n",
    "XPanel_scaled = preprocessing.scale(XPanel)"
   ]
  },
  {
   "cell_type": "code",
   "execution_count": 6,
   "metadata": {
    "collapsed": false
   },
   "outputs": [
    {
     "data": {
      "text/plain": [
       "array([-0.11203321,  0.37934052, -0.11203321, -0.11203321,  0.37934052,\n",
       "       -0.11203321,  1.58811991, -2.23476775,  1.19010719, -0.85400755])"
      ]
     },
     "execution_count": 6,
     "metadata": {},
     "output_type": "execute_result"
    }
   ],
   "source": [
    "XPanel_scaled"
   ]
  },
  {
   "cell_type": "markdown",
   "metadata": {},
   "source": [
    "- Observation : The difference we are seeing is because standard deviation and mean values are having lesser precision.\n"
   ]
  },
  {
   "cell_type": "code",
   "execution_count": 7,
   "metadata": {
    "collapsed": false
   },
   "outputs": [
    {
     "data": {
      "text/plain": [
       "2.035110807794013"
      ]
     },
     "execution_count": 7,
     "metadata": {},
     "output_type": "execute_result"
    }
   ],
   "source": [
    "XPanel.std()"
   ]
  },
  {
   "cell_type": "code",
   "execution_count": 8,
   "metadata": {
    "collapsed": false
   },
   "outputs": [
    {
     "data": {
      "text/plain": [
       "0.22799999999999992"
      ]
     },
     "execution_count": 8,
     "metadata": {},
     "output_type": "execute_result"
    }
   ],
   "source": [
    "XPanel.mean()"
   ]
  },
  {
   "cell_type": "markdown",
   "metadata": {},
   "source": [
    "# 3 . SVD"
   ]
  },
  {
   "cell_type": "code",
   "execution_count": 16,
   "metadata": {
    "collapsed": false
   },
   "outputs": [],
   "source": [
    "#Truncated SVD \n",
    "\n",
    "# Matrix obtained after fitting the model\n",
    "\n",
    "import numpy as np\n",
    "\n",
    "#creating a random matrix of 10 x 5 shape\n",
    "X_large = np.random.random((10,5))\n",
    "\n",
    "from sklearn.decomposition import TruncatedSVD\n",
    "\n",
    "#n_components specify the number of components we want it to be reduced to\n",
    "svd = TruncatedSVD(n_components=4)\n",
    "svd.fit(X_large)\n",
    "transformed = svd.fit_transform(X_large)"
   ]
  },
  {
   "cell_type": "code",
   "execution_count": 17,
   "metadata": {
    "collapsed": false
   },
   "outputs": [
    {
     "data": {
      "text/plain": [
       "array([[ 0.12309039,  0.40438635,  0.04171681,  0.23789629,  0.6684614 ],\n",
       "       [ 0.34467406,  0.09944487,  0.77326084,  0.87404762,  0.12463836],\n",
       "       [ 0.3168184 ,  0.12917107,  0.89650242,  0.29549873,  0.23426635],\n",
       "       [ 0.94627166,  0.83221747,  0.50774773,  0.75449171,  0.7983491 ],\n",
       "       [ 0.03320449,  0.41704818,  0.80506678,  0.55803701,  0.13804705],\n",
       "       [ 0.50399324,  0.71750692,  0.54628571,  0.48986303,  0.84387331],\n",
       "       [ 0.99229751,  0.82698226,  0.59040571,  0.02780897,  0.44203844],\n",
       "       [ 0.77240525,  0.42313645,  0.09373164,  0.4060426 ,  0.16525701],\n",
       "       [ 0.56372366,  0.19188477,  0.59159767,  0.78954085,  0.23637471],\n",
       "       [ 0.96364288,  0.32337261,  0.17486973,  0.44063615,  0.9432911 ]])"
      ]
     },
     "execution_count": 17,
     "metadata": {},
     "output_type": "execute_result"
    }
   ],
   "source": [
    "X_large"
   ]
  },
  {
   "cell_type": "code",
   "execution_count": 18,
   "metadata": {
    "collapsed": false
   },
   "outputs": [
    {
     "data": {
      "text/plain": [
       "array([[ 0.6392525 , -0.29028622, -0.28517317, -0.32815225],\n",
       "       [ 0.97913599,  0.70115836, -0.15178259,  0.18093384],\n",
       "       [ 0.83123222,  0.48356471,  0.20600615, -0.10975308],\n",
       "       [ 1.72623364, -0.20649761, -0.08110872,  0.01797522],\n",
       "       [ 0.82944378,  0.60786963,  0.05888451, -0.26831574],\n",
       "       [ 1.36839418, -0.1307954 , -0.1002523 , -0.34512978],\n",
       "       [ 1.32133811, -0.34040292,  0.59208585, -0.02800332],\n",
       "       [ 0.8673082 , -0.20786617,  0.08776436,  0.36899339],\n",
       "       [ 1.06811118,  0.39541457, -0.12745239,  0.26525963],\n",
       "       [ 1.31397501, -0.50529422, -0.25441932,  0.16840858]])"
      ]
     },
     "execution_count": 18,
     "metadata": {},
     "output_type": "execute_result"
    }
   ],
   "source": [
    "transformed"
   ]
  },
  {
   "cell_type": "code",
   "execution_count": 19,
   "metadata": {
    "collapsed": true
   },
   "outputs": [],
   "source": [
    "# Getting the U, Sigma and V Matrices \n",
    "\n",
    "# https://en.wikipedia.org/wiki/Singular_value_decomposition\n",
    "\n",
    "\n",
    "from sklearn.utils.extmath import randomized_svd\n",
    "\n",
    "U, Sigma, VT = randomized_svd(X_large, n_components=4)"
   ]
  },
  {
   "cell_type": "code",
   "execution_count": 20,
   "metadata": {
    "collapsed": false
   },
   "outputs": [
    {
     "data": {
      "text/plain": [
       "array([[ 0.17754131, -0.21578381, -0.36628809, -0.43104776],\n",
       "       [ 0.27193805,  0.52120498, -0.19495577,  0.2376675 ],\n",
       "       [ 0.23086035,  0.35945707,  0.26460273, -0.14416728],\n",
       "       [ 0.47943148, -0.15349968, -0.10417936,  0.02361154],\n",
       "       [ 0.23036364,  0.45185894,  0.07563367, -0.3524489 ],\n",
       "       [ 0.38004777, -0.09722656, -0.12876816, -0.45334876],\n",
       "       [ 0.36697876, -0.25303798,  0.7604993 , -0.03678405],\n",
       "       [ 0.24087982, -0.154517  ,  0.11272814,  0.48469505],\n",
       "       [ 0.29664937,  0.29393081, -0.16370507,  0.3484345 ],\n",
       "       [ 0.36493379, -0.37560967, -0.32678659,  0.22121482]])"
      ]
     },
     "execution_count": 20,
     "metadata": {},
     "output_type": "execute_result"
    }
   ],
   "source": [
    "U"
   ]
  },
  {
   "cell_type": "code",
   "execution_count": 21,
   "metadata": {
    "collapsed": false
   },
   "outputs": [
    {
     "data": {
      "text/plain": [
       "array([ 3.60058467,  1.34526413,  0.77854884,  0.76128978])"
      ]
     },
     "execution_count": 21,
     "metadata": {},
     "output_type": "execute_result"
    }
   ],
   "source": [
    "Sigma"
   ]
  },
  {
   "cell_type": "code",
   "execution_count": 22,
   "metadata": {
    "collapsed": false
   },
   "outputs": [
    {
     "data": {
      "text/plain": [
       "array([[ 0.53066119,  0.41014215,  0.42762854,  0.42427127,  0.43279308],\n",
       "       [-0.35604843, -0.25107117,  0.66405663,  0.44299179, -0.41590846],\n",
       "       [ 0.31482002,  0.33222474,  0.40384206, -0.62314519, -0.48899565],\n",
       "       [ 0.67361158, -0.40569293, -0.28153913,  0.30212624, -0.45947377]])"
      ]
     },
     "execution_count": 22,
     "metadata": {},
     "output_type": "execute_result"
    }
   ],
   "source": [
    "VT"
   ]
  },
  {
   "cell_type": "code",
   "execution_count": 27,
   "metadata": {
    "collapsed": false
   },
   "outputs": [],
   "source": [
    "# Standar Singular value decomposition in SciPy module\n",
    "\n",
    "# When we dont want to truncate \n",
    "from scipy import linalg\n",
    "U, s, Vh = linalg.svd(X_large)"
   ]
  },
  {
   "cell_type": "code",
   "execution_count": 28,
   "metadata": {
    "collapsed": false
   },
   "outputs": [
    {
     "data": {
      "text/plain": [
       "array([[-0.17754131,  0.21578381,  0.36628809, -0.43104776,  0.08981725,\n",
       "        -0.40280285, -0.43763512, -0.118508  ,  0.01371487, -0.47526128],\n",
       "       [-0.27193805, -0.52120498,  0.19495577,  0.2376675 , -0.00659115,\n",
       "         0.24789589,  0.0135753 , -0.35614141, -0.49902126, -0.34980344],\n",
       "       [-0.23086035, -0.35945707, -0.26460273, -0.14416728, -0.59035021,\n",
       "        -0.26598248, -0.02019066,  0.52878328, -0.06688232, -0.15146812],\n",
       "       [-0.47943148,  0.15349968,  0.10417936,  0.02361154,  0.30956199,\n",
       "        -0.39531876,  0.66429254,  0.1218084 , -0.1547744 ,  0.05468023],\n",
       "       [-0.23036364, -0.45185894, -0.07563367, -0.3524489 ,  0.29344858,\n",
       "        -0.14846524, -0.30060697, -0.12456181, -0.03866713,  0.63030634],\n",
       "       [-0.38004777,  0.09722656,  0.12876816, -0.45334876,  0.04855399,\n",
       "         0.71962513,  0.09530711,  0.26424513,  0.14834945, -0.05357278],\n",
       "       [-0.36697876,  0.25303798, -0.7604993 , -0.03678405, -0.02464044,\n",
       "         0.03086244, -0.06755331, -0.43217437,  0.05549623, -0.16002658],\n",
       "       [-0.24087982,  0.154517  , -0.11272814,  0.48469505,  0.39423009,\n",
       "         0.06325141, -0.48287713,  0.49953753, -0.16561941, -0.03014162],\n",
       "       [-0.29664937, -0.29393081,  0.16370507,  0.3484345 ,  0.00883117,\n",
       "        -0.06290188, -0.0108373 , -0.10075182,  0.80825623, -0.09907945],\n",
       "       [-0.36493379,  0.37560967,  0.32678659,  0.22121482, -0.55043198,\n",
       "         0.02148857, -0.17117171, -0.18128877, -0.12276347,  0.43513431]])"
      ]
     },
     "execution_count": 28,
     "metadata": {},
     "output_type": "execute_result"
    }
   ],
   "source": [
    "U"
   ]
  },
  {
   "cell_type": "code",
   "execution_count": 29,
   "metadata": {
    "collapsed": false
   },
   "outputs": [
    {
     "data": {
      "text/plain": [
       "array([ 3.60058467,  1.34526413,  0.77854884,  0.76128978,  0.49009283])"
      ]
     },
     "execution_count": 29,
     "metadata": {},
     "output_type": "execute_result"
    }
   ],
   "source": [
    "s"
   ]
  },
  {
   "cell_type": "code",
   "execution_count": 30,
   "metadata": {
    "collapsed": false
   },
   "outputs": [
    {
     "data": {
      "text/plain": [
       "array([[-0.53066119, -0.41014215, -0.42762854, -0.42427127, -0.43279308],\n",
       "       [ 0.35604843,  0.25107117, -0.66405663, -0.44299179,  0.41590846],\n",
       "       [-0.31482002, -0.33222474, -0.40384206,  0.62314519,  0.48899565],\n",
       "       [ 0.67361158, -0.40569293, -0.28153913,  0.30212624, -0.45947377],\n",
       "       [-0.19688579,  0.70269955, -0.3658004 ,  0.37968669, -0.43529004]])"
      ]
     },
     "execution_count": 30,
     "metadata": {},
     "output_type": "execute_result"
    }
   ],
   "source": [
    "Vh"
   ]
  },
  {
   "cell_type": "code",
   "execution_count": 40,
   "metadata": {
    "collapsed": false
   },
   "outputs": [],
   "source": [
    "matrix_sample = np.array([[1000, 1, 0, 0, 1, 0, 3.46, -4.32, 2.65, -1.51],\n",
    "                           [2000, 2, 0, 0, 2, 0, 7, 8,  -5, -3] ])"
   ]
  },
  {
   "cell_type": "code",
   "execution_count": 41,
   "metadata": {
    "collapsed": false
   },
   "outputs": [],
   "source": [
    "# Calculating euclidean pairwise distance matrix \n",
    "\n",
    "from scipy.spatial.distance import pdist\n",
    "dist_matrix =  pdist(matrix_sample, 'euclidean')"
   ]
  },
  {
   "cell_type": "code",
   "execution_count": 32,
   "metadata": {
    "collapsed": false
   },
   "outputs": [
    {
     "data": {
      "text/plain": [
       "array([ 1.17374499,  1.01773072,  1.16687331,  0.98730564,  0.76940095,\n",
       "        1.15350417,  0.84033014,  1.01621562,  0.92057386,  0.60298025,\n",
       "        1.19897971,  0.54675339,  1.06009326,  1.34127754,  0.98497144,\n",
       "        0.33038731,  1.28428025,  1.25318783,  0.49985504,  0.95562721,\n",
       "        1.07318904,  0.97744472,  0.63399068,  1.22500238,  1.25261688,\n",
       "        0.53137056,  0.81486393,  0.9440384 ,  0.93831946,  0.69967571,\n",
       "        0.93900135,  1.22781809,  1.03744648,  0.66406367,  1.39062574,\n",
       "        0.79204653,  0.9116195 ,  0.86067467,  0.71894134,  0.82328477,\n",
       "        1.09979944,  0.9213004 ,  0.70499969,  0.81218335,  0.98607904])"
      ]
     },
     "execution_count": 32,
     "metadata": {},
     "output_type": "execute_result"
    }
   ],
   "source": [
    "dist_matrix"
   ]
  },
  {
   "cell_type": "code",
   "execution_count": null,
   "metadata": {
    "collapsed": true
   },
   "outputs": [],
   "source": []
  }
 ],
 "metadata": {
  "kernelspec": {
   "display_name": "Python 3",
   "language": "python",
   "name": "python3"
  },
  "language_info": {
   "codemirror_mode": {
    "name": "ipython",
    "version": 3
   },
   "file_extension": ".py",
   "mimetype": "text/x-python",
   "name": "python",
   "nbconvert_exporter": "python",
   "pygments_lexer": "ipython3",
   "version": "3.5.1"
  }
 },
 "nbformat": 4,
 "nbformat_minor": 0
}
