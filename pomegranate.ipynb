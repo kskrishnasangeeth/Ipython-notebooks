{
 "metadata": {
  "name": "",
  "signature": "sha256:199e6e3059a4637fe1e56312380e0b5e1eaf729cadde28ad54a9a6027646f492"
 },
 "nbformat": 3,
 "nbformat_minor": 0,
 "worksheets": [
  {
   "cells": [
    {
     "cell_type": "code",
     "collapsed": false,
     "input": [
      "import pomegranate as pg"
     ],
     "language": "python",
     "metadata": {},
     "outputs": [],
     "prompt_number": 37
    },
    {
     "cell_type": "code",
     "collapsed": false,
     "input": [
      "import numpy"
     ],
     "language": "python",
     "metadata": {},
     "outputs": [],
     "prompt_number": 38
    },
    {
     "cell_type": "code",
     "collapsed": false,
     "input": [
      "hardware_working = pg.DiscreteDistribution({'T': 0.99, 'F':0.01})"
     ],
     "language": "python",
     "metadata": {},
     "outputs": [],
     "prompt_number": 39
    },
    {
     "cell_type": "code",
     "collapsed": false,
     "input": [
      "code_working = pg.DiscreteDistribution({'T':0.60, 'F':0.40})"
     ],
     "language": "python",
     "metadata": {},
     "outputs": [],
     "prompt_number": 40
    },
    {
     "cell_type": "code",
     "collapsed": false,
     "input": [
      "interpreter= pg.ConditionalProbabilityTable(\n",
      "                                            [['T','T','T',1.0],\n",
      "                                             ['T','T','F',0.0],\n",
      "                                             ['T','F','T',0.0],\n",
      "                                             ['T','F','F',1.0],\n",
      "                                             ['F','T','T',0.0],\n",
      "                                             ['F','T','F',1.0],\n",
      "                                             ['F','F','T',0.0],\n",
      "                                             ['F','F','F',1.0]],[hardware_working, code_working]\n",
      "                                        )"
     ],
     "language": "python",
     "metadata": {},
     "outputs": [],
     "prompt_number": 41
    },
    {
     "cell_type": "code",
     "collapsed": false,
     "input": [
      "vim = pg.ConditionalProbabilityTable([['T','T',1.0],\n",
      "                                      ['T','F',0.0],\n",
      "                                      ['F','T',0.0],\n",
      "                                      ['F','F',1.0]],[interpreter]\n",
      "                                    )"
     ],
     "language": "python",
     "metadata": {},
     "outputs": [],
     "prompt_number": 21
    },
    {
     "cell_type": "code",
     "collapsed": false,
     "input": [
      "cursor = pg.ConditionalProbabilityTable(\n",
      "                                        [['T','T','T',1.0]\n",
      "                                         ['T','T','F',1.0],\n",
      "                                         ['T','F','T',1.0],\n",
      "                                             ['T','F','F',0.0],\n",
      "                                             ['F','T','T',0.0],\n",
      "                                             ['F','T','F',1.0],\n",
      "                                             ['F','F','T',0.0],\n",
      "                                             ['F','F','F',1.0]]\n",
      "                                        )"
     ],
     "language": "python",
     "metadata": {},
     "outputs": []
    },
    {
     "cell_type": "code",
     "collapsed": false,
     "input": [
      "s1 = pg.State( hardware_working, name=\"hardware_working\" )\n",
      "s2 = pg.State( code_working, name=\"code_working\" )\n",
      "s3 = pg.State( interpreter, name=\"interpreter\" )"
     ],
     "language": "python",
     "metadata": {},
     "outputs": [],
     "prompt_number": 42
    },
    {
     "cell_type": "code",
     "collapsed": false,
     "input": [
      "network = pg.BayesianNetwork( \"Freds dilemma\" )"
     ],
     "language": "python",
     "metadata": {},
     "outputs": [],
     "prompt_number": 43
    },
    {
     "cell_type": "code",
     "collapsed": false,
     "input": [
      "network.add_nodes( [ s1, s2, s3 ] )"
     ],
     "language": "python",
     "metadata": {},
     "outputs": [],
     "prompt_number": 44
    },
    {
     "cell_type": "code",
     "collapsed": false,
     "input": [
      "network.add_edge( s1, s3 )\n",
      "network.add_edge( s2, s3 )\n",
      "network.bake()"
     ],
     "language": "python",
     "metadata": {},
     "outputs": [],
     "prompt_number": 45
    },
    {
     "cell_type": "code",
     "collapsed": false,
     "input": [
      "observations = { 'interpreter' : 'F' }"
     ],
     "language": "python",
     "metadata": {},
     "outputs": [],
     "prompt_number": 46
    },
    {
     "cell_type": "code",
     "collapsed": false,
     "input": [
      "beliefs = network.forward_backward( observations )"
     ],
     "language": "python",
     "metadata": {},
     "outputs": [],
     "prompt_number": 47
    },
    {
     "cell_type": "code",
     "collapsed": false,
     "input": [
      "beliefs = map( str, beliefs )"
     ],
     "language": "python",
     "metadata": {},
     "outputs": [],
     "prompt_number": 48
    },
    {
     "cell_type": "code",
     "collapsed": false,
     "input": [
      "print \"\\n\".join( \"{}\\t{}\".format( state.name, belief ) for state, belief in zip( network.states, beliefs ) )"
     ],
     "language": "python",
     "metadata": {},
     "outputs": [
      {
       "output_type": "stream",
       "stream": "stdout",
       "text": [
        "hardware_working\t{\n",
        "    \"frozen\" : false,\n",
        "    \"class\" : \"Distribution\",\n",
        "    \"parameters\" : [\n",
        "        {\n",
        "            \"T\" : 0.9753694581280787,\n",
        "            \"F\" : 0.02463054187192119\n",
        "        }\n",
        "    ],\n",
        "    \"name\" : \"DiscreteDistribution\"\n",
        "}\n",
        "code_working\t{\n",
        "    \"frozen\" : false,\n",
        "    \"class\" : \"Distribution\",\n",
        "    \"parameters\" : [\n",
        "        {\n",
        "            \"T\" : 0.014778325123152717,\n",
        "            \"F\" : 0.9852216748768474\n",
        "        }\n",
        "    ],\n",
        "    \"name\" : \"DiscreteDistribution\"\n",
        "}\n",
        "interpreter\t{\n",
        "    \"frozen\" : false,\n",
        "    \"class\" : \"Distribution\",\n",
        "    \"parameters\" : [\n",
        "        {\n",
        "            \"T\" : 0.0,\n",
        "            \"F\" : 1.0\n",
        "        }\n",
        "    ],\n",
        "    \"name\" : \"DiscreteDistribution\"\n",
        "}\n"
       ]
      }
     ],
     "prompt_number": 49
    },
    {
     "cell_type": "code",
     "collapsed": false,
     "input": [],
     "language": "python",
     "metadata": {},
     "outputs": []
    }
   ],
   "metadata": {}
  }
 ]
}