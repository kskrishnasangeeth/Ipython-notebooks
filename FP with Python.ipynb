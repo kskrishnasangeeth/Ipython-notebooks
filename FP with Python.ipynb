{
 "metadata": {
  "name": "",
  "signature": "sha256:1dc839c9d8814e80b018a2e9842c9eb1aa3c445672dfb04cb5a012ded8bc77f3"
 },
 "nbformat": 3,
 "nbformat_minor": 0,
 "worksheets": [
  {
   "cells": [
    {
     "cell_type": "markdown",
     "metadata": {},
     "source": [
      "###What are the different Kinds of programming languages?\n",
      "\n",
      "- Procedural language : Languages with a list of instructions for a computer to do something eg : C\n",
      "- Declarative language : Languages where we specify what we are trying to achieve by writing some kind of higher order specification and a computing engine decides on what is the best way for it to get it done. Eg : SQL\n",
      "- Object oriented Language : Languages which allow program to manipulate the internal state of objects. Eg : Java\n",
      "- Functional Lanaguages : Languages in which a program is decomposed basically into a set of functions. A functions output is usally the input to another function and so on. Some languages enforce strict functional nature such as not allowing statements etc. Eg : Haskell\n",
      "\n"
     ]
    },
    {
     "cell_type": "markdown",
     "metadata": {},
     "source": [
      "### Where does Python fit in ?\n",
      "\n",
      "\n",
      "- Python supports procedural programming.\n",
      "- Python supports object oriented programming\n",
      "- Python supports Functional programming too."
     ]
    },
    {
     "cell_type": "markdown",
     "metadata": {},
     "source": [
      "#### List comprehensions"
     ]
    },
    {
     "cell_type": "code",
     "collapsed": false,
     "input": [
      "# creates a list with elements ranginging from 1 to 10\n",
      "\n",
      "awesome_list = [ x for x in range(1,10)]\n",
      "\n"
     ],
     "language": "python",
     "metadata": {},
     "outputs": [],
     "prompt_number": 1
    },
    {
     "cell_type": "code",
     "collapsed": false,
     "input": [
      "awesome_list"
     ],
     "language": "python",
     "metadata": {},
     "outputs": [
      {
       "metadata": {},
       "output_type": "pyout",
       "prompt_number": 2,
       "text": [
        "[1, 2, 3, 4, 5, 6, 7, 8, 9]"
       ]
      }
     ],
     "prompt_number": 2
    },
    {
     "cell_type": "code",
     "collapsed": false,
     "input": [
      "# But isn't this same as \n",
      "\n",
      "not_so_awesome_list = []\n",
      "for i in range(1,10):\n",
      "    not_so_awesome_list.append(i)\n",
      "    "
     ],
     "language": "python",
     "metadata": {},
     "outputs": [],
     "prompt_number": 3
    },
    {
     "cell_type": "code",
     "collapsed": false,
     "input": [
      "not_so_awesome_list"
     ],
     "language": "python",
     "metadata": {},
     "outputs": [
      {
       "metadata": {},
       "output_type": "pyout",
       "prompt_number": 4,
       "text": [
        "[1, 2, 3, 4, 5, 6, 7, 8, 9]"
       ]
      }
     ],
     "prompt_number": 4
    },
    {
     "cell_type": "markdown",
     "metadata": {},
     "source": [
      "Infact this is how we are programmed to code right from the first time we write a 'Hello World' program. We are taught about <code> loops</code> as the one true way. It is no coincidence that all of us when trying to solve a problem thinks of either a <code> for loop</code> or a <code> while loop </code> initially.\n",
      "\n",
      "Let's try to break down the syntactic sugar behing **list comprehension** we saw earlier"
     ]
    },
    {
     "cell_type": "code",
     "collapsed": false,
     "input": [
      "# Breaking down the list comprehension\n",
      "\n",
      "\n",
      "a = list(x for x in range(1,10))\n",
      "\n",
      "b = (x for x in range(1,10))"
     ],
     "language": "python",
     "metadata": {},
     "outputs": [],
     "prompt_number": 10
    },
    {
     "cell_type": "code",
     "collapsed": false,
     "input": [
      "a"
     ],
     "language": "python",
     "metadata": {},
     "outputs": [
      {
       "metadata": {},
       "output_type": "pyout",
       "prompt_number": 9,
       "text": [
        "[1, 2, 3, 4, 5, 6, 7, 8, 9]"
       ]
      }
     ],
     "prompt_number": 9
    },
    {
     "cell_type": "code",
     "collapsed": false,
     "input": [
      "b"
     ],
     "language": "python",
     "metadata": {},
     "outputs": [
      {
       "metadata": {},
       "output_type": "pyout",
       "prompt_number": 11,
       "text": [
        "<generator object <genexpr> at 0x000000000393EB40>"
       ]
      }
     ],
     "prompt_number": 11
    },
    {
     "cell_type": "code",
     "collapsed": false,
     "input": [
      "#so we have an iterator  created which we need to iterate over.\n",
      "\n",
      "elem = iter(b)\n",
      "\n",
      "print elem.next()"
     ],
     "language": "python",
     "metadata": {},
     "outputs": [
      {
       "output_type": "stream",
       "stream": "stdout",
       "text": [
        "1\n"
       ]
      }
     ],
     "prompt_number": 17
    },
    {
     "cell_type": "code",
     "collapsed": false,
     "input": [
      "elem.next()"
     ],
     "language": "python",
     "metadata": {},
     "outputs": [
      {
       "metadata": {},
       "output_type": "pyout",
       "prompt_number": 18,
       "text": [
        "2"
       ]
      }
     ],
     "prompt_number": 18
    },
    {
     "cell_type": "markdown",
     "metadata": {},
     "source": [
      "So what did we learned <br/>\n",
      "\n",
      "1. expression b returns a generator object.\n",
      "2. If we apply the function list() to the generator object , then we get a nice list that we can modify.\n",
      "3. The generator object is actually an iterator instance which can be iterated over using iter."
     ]
    },
    {
     "cell_type": "code",
     "collapsed": false,
     "input": [
      "#This is how generator expression looks like\n",
      "\n",
      "( expression for expr in sequence1\n",
      "             if condition1\n",
      "             for expr2 in sequence2\n",
      "             if condition2\n",
      "             for expr3 in sequence3 ...\n",
      "             if condition3\n",
      "             for exprN in sequenceN\n",
      "             if conditionN )"
     ],
     "language": "python",
     "metadata": {},
     "outputs": [],
     "prompt_number": 27
    },
    {
     "cell_type": "code",
     "collapsed": false,
     "input": [],
     "language": "python",
     "metadata": {},
     "outputs": [],
     "prompt_number": 30
    },
    {
     "cell_type": "code",
     "collapsed": false,
     "input": [
      "i"
     ],
     "language": "python",
     "metadata": {},
     "outputs": [
      {
       "metadata": {},
       "output_type": "pyout",
       "prompt_number": 31,
       "text": [
        "1"
       ]
      }
     ],
     "prompt_number": 31
    },
    {
     "cell_type": "code",
     "collapsed": false,
     "input": [
      "j"
     ],
     "language": "python",
     "metadata": {},
     "outputs": [
      {
       "metadata": {},
       "output_type": "pyout",
       "prompt_number": 32,
       "text": [
        "2"
       ]
      }
     ],
     "prompt_number": 32
    },
    {
     "cell_type": "code",
     "collapsed": false,
     "input": [
      "k"
     ],
     "language": "python",
     "metadata": {},
     "outputs": [
      {
       "metadata": {},
       "output_type": "pyout",
       "prompt_number": 33,
       "text": [
        "3"
       ]
      }
     ],
     "prompt_number": 33
    },
    {
     "cell_type": "code",
     "collapsed": false,
     "input": [],
     "language": "python",
     "metadata": {},
     "outputs": []
    }
   ],
   "metadata": {}
  }
 ]
}