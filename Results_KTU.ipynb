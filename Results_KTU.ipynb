{
 "cells": [
  {
   "cell_type": "code",
   "execution_count": 1,
   "metadata": {
    "collapsed": false
   },
   "outputs": [],
   "source": [
    "#Get percentages\n",
    "\n",
    "def get_percentage(file_path):\n",
    "    \n",
    "    passed = 0\n",
    "    failed = 0\n",
    "    with open(file_path,'r') as f:\n",
    "        lines = [_.rstrip() for _ in f]\n",
    "        total_students = len(lines)\n",
    "        for each_line in lines:\n",
    "            if each_line.find(\"F\") !=-1 or each_line.find(\"FE\") !=-1 :\n",
    "                failed +=1\n",
    "            else:\n",
    "                passed +=1\n",
    "    pass_percentage = (float(passed)/total_students)*100\n",
    "    fail_percentage = (float(failed)/total_students)*100\n",
    "    \n",
    "    return \"{0} pass percentage -> {1} Fail percentage -> {2}\".format(file_path, pass_percentage,fail_percentage)\n",
    "            \n",
    "     \n",
    "    "
   ]
  },
  {
   "cell_type": "code",
   "execution_count": 2,
   "metadata": {
    "collapsed": false
   },
   "outputs": [
    {
     "data": {
      "text/plain": [
       "'CS pass percentage -> 38.2113821138 Fail percentage -> 61.7886178862'"
      ]
     },
     "execution_count": 2,
     "metadata": {},
     "output_type": "execute_result"
    }
   ],
   "source": [
    "#CS percentage\n",
    "\n",
    "get_percentage(\"CS\")"
   ]
  },
  {
   "cell_type": "code",
   "execution_count": 3,
   "metadata": {
    "collapsed": false
   },
   "outputs": [
    {
     "data": {
      "text/plain": [
       "'EC pass percentage -> 48.7804878049 Fail percentage -> 51.2195121951'"
      ]
     },
     "execution_count": 3,
     "metadata": {},
     "output_type": "execute_result"
    }
   ],
   "source": [
    "#EC percentage\n",
    "\n",
    "get_percentage(\"EC\")"
   ]
  },
  {
   "cell_type": "code",
   "execution_count": 4,
   "metadata": {
    "collapsed": false
   },
   "outputs": [
    {
     "data": {
      "text/plain": [
       "'EEE pass percentage -> 40.0 Fail percentage -> 60.0'"
      ]
     },
     "execution_count": 4,
     "metadata": {},
     "output_type": "execute_result"
    }
   ],
   "source": [
    "#EEE percentage\n",
    "\n",
    "get_percentage(\"EEE\")"
   ]
  },
  {
   "cell_type": "code",
   "execution_count": 5,
   "metadata": {
    "collapsed": false
   },
   "outputs": [
    {
     "data": {
      "text/plain": [
       "'EI pass percentage -> 19.1489361702 Fail percentage -> 80.8510638298'"
      ]
     },
     "execution_count": 5,
     "metadata": {},
     "output_type": "execute_result"
    }
   ],
   "source": [
    "#EI percentage\n",
    "\n",
    "get_percentage(\"EI\")"
   ]
  },
  {
   "cell_type": "code",
   "execution_count": 6,
   "metadata": {
    "collapsed": false
   },
   "outputs": [
    {
     "data": {
      "text/plain": [
       "'cec pass percentage -> 39.4160583942 Fail percentage -> 60.5839416058'"
      ]
     },
     "execution_count": 6,
     "metadata": {},
     "output_type": "execute_result"
    }
   ],
   "source": [
    "#Total CEC\n",
    "\n",
    "get_percentage(\"cec\")"
   ]
  },
  {
   "cell_type": "code",
   "execution_count": 7,
   "metadata": {
    "collapsed": false
   },
   "outputs": [],
   "source": [
    "import collections\n",
    "Subjects = collections.namedtuple('Subject','Aplus A Bplus B C F FE O Absent')\n"
   ]
  },
  {
   "cell_type": "code",
   "execution_count": 8,
   "metadata": {
    "collapsed": false
   },
   "outputs": [],
   "source": [
    "def get_subject_details(file_path,subjects):\n",
    "    \n",
    "    possible_grades = ['A+','A','B+','B','C','F','FE','O[S]','Absent']\n",
    "    sub = dict()\n",
    "    subs = dict()\n",
    "    \n",
    "    with open(file_path,'r') as f:\n",
    "        #Slice 11 chars to right\n",
    "        lines = [_[11:].rstrip() for _ in f]\n",
    "        grades = map(lambda _ : _.split(' '), lines)\n",
    "        \n",
    "        for each_student in grades:\n",
    "            for pos,each_grade in enumerate(each_student):\n",
    "                if each_grade in possible_grades:\n",
    "                    if sub.has_key((pos,each_grade)):\n",
    "                        val = sub[(pos,each_grade)]\n",
    "                        sub[(pos,each_grade)] = val + 1\n",
    "                    else:\n",
    "                        sub[(pos,each_grade)] = 1\n",
    "                        \n",
    "        for pos,subject in enumerate(subjects):\n",
    "            grade_details = Subjects(Aplus = sub.get((pos,'A+'),0),\n",
    "                                     A     = sub.get((pos,'A'),0),\n",
    "                                     Bplus = sub.get((pos,'B+'),0),\n",
    "                                     B     = sub.get((pos,'B'),0),\n",
    "                                     C     = sub.get((pos,'C'),0),\n",
    "                                     F     = sub.get((pos,'F'),0),\n",
    "                                     FE    = sub.get((pos,'FE'),0),\n",
    "                                     O     = sub.get((pos,'O[S]'),0),\n",
    "                                     Absent = sub.get((pos,'Absent'),0))\n",
    "            \n",
    "            subs[subject] = grade_details\n",
    "\n",
    "    return subs\n",
    "  "
   ]
  },
  {
   "cell_type": "raw",
   "metadata": {
    "collapsed": false
   },
   "source": [
    "--------------Computer Science ---------------------\n",
    "\n",
    "MA101 CALCULUS\n",
    "PH100 ENGINEERING PHYSICS\n",
    "BE100 ENGINEERING MECHANICS\n",
    "BE101 INTRODUCTION TO COMPUTING AND PROBLEM SOLVING\n",
    "BE103 INTRODUCTION TO SUSTAINABLE ENGINEERING\n",
    "EE100 BASICS OF ELECTRICAL ENGINEERING\n",
    "PH110 ENGINEERING PHYSICS LAB\n",
    "CS110 COMPUTER SCIENCE WORKSHOP\n",
    "EE110 ELECTRICAL ENGINEERING WORKSHOP"
   ]
  },
  {
   "cell_type": "code",
   "execution_count": 9,
   "metadata": {
    "collapsed": false
   },
   "outputs": [
    {
     "name": "stdout",
     "output_type": "stream",
     "text": [
      "\t\tA+\tA\tB+\tB\tC\tF\tFE\tO[S]\tAbsent\n",
      "EE110\t\t32\t28\t22\t0\t0\t0\t0\t40\t0\n",
      "EE100\t\t1\t3\t15\t23\t24\t54\t1\t1\t0\n",
      "PH100\t\t0\t1\t13\t29\t30\t48\t0\t0\t0\n",
      "CS110\t\t20\t20\t14\t13\t3\t0\t0\t51\t0\n",
      "PH110\t\t21\t0\t0\t0\t0\t0\t0\t101\t0\n",
      "BE101\t\t4\t10\t32\t36\t21\t17\t0\t2\t0\n",
      "BE100\t\t4\t7\t29\t28\t26\t27\t0\t1\t0\n",
      "BE103\t\t6\t15\t47\t41\t8\t4\t0\t1\t0\n",
      "MA101\t\t6\t22\t28\t34\t12\t10\t6\t2\t0\n"
     ]
    }
   ],
   "source": [
    "#CS Department\n",
    "\n",
    "subjects =['MA101','PH100','BE100','BE101','BE103','EE100', 'PH110', 'CS110', 'EE110' ]\n",
    "\n",
    "grades = get_subject_details(\"CS\",subjects)\n",
    "\n",
    "print \"\\t\\tA+\\tA\\tB+\\tB\\tC\\tF\\tFE\\tO[S]\\tAbsent\"\n",
    "for each_sub in grades.keys():\n",
    "    gr = grades[each_sub]\n",
    "    \n",
    "    print \"{0}\\t\\t{1}\\t{2}\\t{3}\\t{4}\\t{5}\\t{6}\\t{7}\\t{8}\\t{9}\".format(each_sub,gr.Aplus,gr.A,gr.Bplus,gr.B,gr.C,gr.F,gr.FE,gr.O,gr.Absent)\n",
    "    "
   ]
  },
  {
   "cell_type": "markdown",
   "metadata": {
    "collapsed": false
   },
   "source": [
    "\n",
    "#### Highlights\n",
    "\n",
    "- Subject with most number of failures : EE100 (Electrical Engineering) [54]\n",
    "\n",
    "- The second most difficult subject seems to be PH100 (Physics)  [48]\n",
    "\n",
    "- Workshops have been the most easiest subjects to score with Electrical, Physics and Computer Labs giving some respite.\n",
    "\n",
    "- Difficulty of paper based on grade 'F' will be Electrical >  Physics > Mechanics > CompSci > Calculus > Sustainable Engg\n",
    "\n",
    "\n",
    "#### Sort of Surprising\n",
    "\n",
    "- I was expecting Mechanics and Calculus to be the most diffficult paper.\n",
    "\n",
    "- But Electrical and Physics has turned out to be the most difficult subjects.\n",
    "\n",
    "- Also seeing CompSci being more difficult when compared with Calculus is quite surprising.\n",
    "  "
   ]
  },
  {
   "cell_type": "raw",
   "metadata": {
    "collapsed": false
   },
   "source": [
    "------------Electrical and Electronics---------------\n",
    "\n",
    "MA101 CALCULUS\n",
    "PH100 ENGINEERING PHYSICS\n",
    "BE100 ENGINEERING MECHANICS\n",
    "BE101 INTRODUCTION TO ELECTRICAL ENGINEERING\n",
    "BE103 INTRODUCTION TO SUSTAINABLE ENGINEERING\n",
    "CE100 BASICS OF CIVIL ENGINEERING\n",
    "PH110 ENGINEERING PHYSICS LAB\n",
    "EE110 ELECTRICAL ENGINEERING WORKSHOP\n",
    "CE110 CIVIL ENGINEERING WORKSHOP\n",
    "\n"
   ]
  },
  {
   "cell_type": "code",
   "execution_count": 10,
   "metadata": {
    "collapsed": false
   },
   "outputs": [
    {
     "name": "stdout",
     "output_type": "stream",
     "text": [
      "\t\tA+\tA\tB+\tB\tC\tF\tFE\tO[S]\tAbsent\n",
      "EE110\t\t35\t25\t13\t1\t0\t0\t0\t46\t0\n",
      "PH100\t\t1\t1\t14\t24\t25\t55\t0\t0\t0\n",
      "CE110\t\t18\t13\t16\t1\t0\t0\t0\t72\t0\n",
      "CE100\t\t13\t18\t25\t23\t25\t13\t0\t1\t1\n",
      "PH110\t\t25\t1\t0\t0\t0\t0\t0\t94\t0\n",
      "BE101\t\t1\t2\t10\t30\t20\t57\t0\t0\t0\n",
      "BE100\t\t3\t13\t25\t35\t19\t22\t0\t2\t1\n",
      "BE103\t\t9\t18\t39\t29\t16\t5\t0\t2\t1\n",
      "MA101\t\t10\t13\t12\t18\t14\t40\t0\t13\t0\n"
     ]
    }
   ],
   "source": [
    "#EEE Department\n",
    "\n",
    "subjects =['MA101','PH100','BE100','BE101','BE103','CE100', 'PH110', 'EE110', 'CE110' ]\n",
    "\n",
    "grades = get_subject_details(\"EEE\",subjects)\n",
    "\n",
    "print \"\\t\\tA+\\tA\\tB+\\tB\\tC\\tF\\tFE\\tO[S]\\tAbsent\"\n",
    "for each_sub in grades.keys():\n",
    "    gr = grades[each_sub]\n",
    "    \n",
    "    print \"{0}\\t\\t{1}\\t{2}\\t{3}\\t{4}\\t{5}\\t{6}\\t{7}\\t{8}\\t{9}\".format(each_sub,gr.Aplus,gr.A,gr.Bplus,gr.B,gr.C,gr.F,gr.FE,gr.O,gr.Absent)\n",
    "    "
   ]
  },
  {
   "cell_type": "markdown",
   "metadata": {
    "collapsed": false
   },
   "source": [
    "\n",
    "#### Highlights\n",
    "\n",
    "- Subject with most number of failures : BE101 (Intro to Electrical Engineering) [57]\n",
    "\n",
    "- The second most difficult subject is PH100 (Physics)  [55]\n",
    "\n",
    "- Workshops and labs have been good as expected with full pass.\n",
    "\n",
    "- Difficulty of paper based on grade 'F' will be Electrical >  Physics > Calculus > Mechanics > Civil Engineering > Sustainable Engg\n",
    "\n",
    "\n",
    "#### Sort of Surprising\n",
    "\n",
    "- I was expecting Mechanics and Calculus to be the most diffficult paper. This trend is a continuation from what we saw in CS Department. Surely Electrical and Physics papers appears to have given a real tough time for students.\n",
    "\n",
    "- Civil Engineering paper appears to be the comparitively easier paper with fairly good distribution across grades.\n",
    "\n",
    "- Calculus paper looks interesting. It appears to be at two extremes . \n",
    "  "
   ]
  },
  {
   "cell_type": "raw",
   "metadata": {
    "collapsed": true
   },
   "source": [
    "\n",
    "--------------Electronics and Communication----------------------\n",
    "MA101 CALCULUS\n",
    "CY100 ENGINEERING CHEMISTRY\n",
    "BE110 ENGINEERING GRAPHICS\n",
    "BE101 INTRODUCTION TO ELECTRONICS ENGINEERING\n",
    "BE103 INTRODUCTION TO SUSTAINABLE ENGINEERING\n",
    "ME100 BASICS OF MECHANICAL ENGINEERING\n",
    "CY110 ENGINEERING CHEMISTRY LAB\n",
    "EC110 ELECTRONICS ENGINEERING WORKSHOP\n",
    "ME110 MECHANICAL ENGINEERING WORKSHOP"
   ]
  },
  {
   "cell_type": "code",
   "execution_count": 11,
   "metadata": {
    "collapsed": false
   },
   "outputs": [
    {
     "name": "stdout",
     "output_type": "stream",
     "text": [
      "\t\tA+\tA\tB+\tB\tC\tF\tFE\tO[S]\tAbsent\n",
      "CY110\t\t28\t28\t11\t0\t0\t0\t0\t54\t0\n",
      "ME110\t\t86\t11\t0\t0\t0\t1\t0\t24\t0\n",
      "ME100\t\t0\t1\t16\t27\t40\t36\t1\t0\t0\n",
      "CY100\t\t10\t8\t27\t40\t17\t18\t1\t1\t0\n",
      "BE110\t\t13\t12\t28\t29\t0\t26\t1\t13\t0\n",
      "EC110\t\t20\t27\t48\t22\t0\t1\t0\t4\t0\n",
      "BE101\t\t1\t5\t18\t28\t35\t30\t1\t0\t0\n",
      "BE103\t\t19\t15\t33\t36\t11\t2\t1\t4\t0\n",
      "MA101\t\t9\t9\t24\t31\t14\t25\t1\t8\t1\n"
     ]
    }
   ],
   "source": [
    "#EC Department\n",
    "\n",
    "subjects =['MA101','CY100','BE110','BE101','BE103','ME100', 'CY110', 'EC110', 'ME110' ]\n",
    "\n",
    "grades = get_subject_details(\"EC\",subjects)\n",
    "\n",
    "print \"\\t\\tA+\\tA\\tB+\\tB\\tC\\tF\\tFE\\tO[S]\\tAbsent\"\n",
    "for each_sub in grades.keys():\n",
    "    gr = grades[each_sub]\n",
    "    \n",
    "    print \"{0}\\t\\t{1}\\t{2}\\t{3}\\t{4}\\t{5}\\t{6}\\t{7}\\t{8}\\t{9}\".format(each_sub,gr.Aplus,gr.A,gr.Bplus,gr.B,gr.C,gr.F,gr.FE,gr.O,gr.Absent)\n",
    "    "
   ]
  },
  {
   "cell_type": "markdown",
   "metadata": {},
   "source": [
    "#### Highlights\n",
    "\n",
    "- Doesn't have Physics paper , instead has Chemistry.\n",
    "- Only department at CEC to have Graphics paper.\n",
    "- The most difficult paper has been Mechanical Engineering based on F grade [36]\n",
    "- The 2nd most difficult paper has been Electronics engineering [30] closely followed by Engg Graphics [26].\n",
    "- Surprisingly Calculus is the 4th most difficult paper.\n",
    "\n",
    "\n",
    "\n",
    "- My reading is that the classical Engineering papers such as Physics, Electrical , Electronics and Mechanical have been really difficult this time around somehow.\n",
    "\n",
    "\n"
   ]
  },
  {
   "cell_type": "raw",
   "metadata": {},
   "source": [
    "----------------Electronics and Instrumentation-----------------------\n",
    "MA101 CALCULUS\n",
    "BE110 ENGINEERING GRAPHICS\n",
    "BE101 INTRODUCTION TO ELECTRONICS ENGINEERING\n",
    "CY110 ENGINEERING CHEMISTRY LAB\n",
    "CY100 ENGINEERING CHEMISTRY\n",
    "EC110 ELECTRONICS ENGINEERING WORKSHOP\n",
    "ME110 MECHANICAL ENGINEERING WORKSHOP\n",
    "BE103 INTRODUCTION TO SUSTAINABLE ENGINEERING\n",
    "ME100 BASICS OF MECHANICAL ENGINEERING"
   ]
  },
  {
   "cell_type": "code",
   "execution_count": 12,
   "metadata": {
    "collapsed": false
   },
   "outputs": [
    {
     "name": "stdout",
     "output_type": "stream",
     "text": [
      "\t\tA+\tA\tB+\tB\tC\tF\tFE\tO[S]\tAbsent\n",
      "CY110\t\t13\t14\t11\t1\t1\t0\t0\t7\t0\n",
      "ME110\t\t30\t0\t1\t0\t0\t0\t0\t16\t0\n",
      "ME100\t\t0\t1\t3\t11\t13\t13\t1\t0\t0\n",
      "CY100\t\t2\t0\t11\t8\t13\t10\t1\t0\t0\n",
      "BE103\t\t4\t9\t16\t14\t3\t0\t1\t0\t0\n",
      "MA101\t\t2\t1\t5\t11\t6\t22\t0\t0\t0\n",
      "BE101\t\t0\t1\t6\t7\t14\t18\t1\t0\t0\n",
      "BE110\t\t6\t2\t9\t5\t0\t24\t1\t0\t0\n",
      "EC110\t\t16\t17\t11\t1\t0\t0\t0\t2\t0\n"
     ]
    }
   ],
   "source": [
    "#E&I Department\n",
    "\n",
    "subjects =['MA101','BE110','BE101','CY110','CY100','EC110', 'ME110', 'BE103', 'ME100' ]\n",
    "\n",
    "grades = get_subject_details(\"EI\",subjects)\n",
    "\n",
    "print \"\\t\\tA+\\tA\\tB+\\tB\\tC\\tF\\tFE\\tO[S]\\tAbsent\"\n",
    "for each_sub in grades.keys():\n",
    "    gr = grades[each_sub]\n",
    "    \n",
    "    print \"{0}\\t\\t{1}\\t{2}\\t{3}\\t{4}\\t{5}\\t{6}\\t{7}\\t{8}\\t{9}\".format(each_sub,gr.Aplus,gr.A,gr.Bplus,gr.B,gr.C,gr.F,gr.FE,gr.O,gr.Absent)\n",
    "    "
   ]
  },
  {
   "cell_type": "code",
   "execution_count": null,
   "metadata": {
    "collapsed": true
   },
   "outputs": [],
   "source": []
  },
  {
   "cell_type": "code",
   "execution_count": null,
   "metadata": {
    "collapsed": true
   },
   "outputs": [],
   "source": []
  }
 ],
 "metadata": {
  "kernelspec": {
   "display_name": "Python 2",
   "language": "python",
   "name": "python2"
  },
  "language_info": {
   "codemirror_mode": {
    "name": "ipython",
    "version": 2
   },
   "file_extension": ".py",
   "mimetype": "text/x-python",
   "name": "python",
   "nbconvert_exporter": "python",
   "pygments_lexer": "ipython2",
   "version": "2.7.10"
  }
 },
 "nbformat": 4,
 "nbformat_minor": 0
}
